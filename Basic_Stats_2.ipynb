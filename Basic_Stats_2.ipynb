{
 "cells": [
  {
   "cell_type": "code",
   "execution_count": 1,
   "id": "d0f36e41-4774-44a9-9b3d-1a66233502da",
   "metadata": {},
   "outputs": [],
   "source": [
    "import numpy as np\n",
    "import scipy.stats as stats"
   ]
  },
  {
   "cell_type": "code",
   "execution_count": 2,
   "id": "c862c4c8-8a13-4fd6-932d-fbb41c179f0c",
   "metadata": {},
   "outputs": [],
   "source": [
    "# Sample data\n",
    "durability = [1.13, 1.55, 1.43, 0.92, 1.25, 1.36, 1.32, 0.85, 1.07, 1.48, 1.20, 1.33, 1.18, 1.22, 1.29]"
   ]
  },
  {
   "cell_type": "code",
   "execution_count": 3,
   "id": "3a7f14b6-4ccb-4375-b9d7-88f9f0724be7",
   "metadata": {},
   "outputs": [],
   "source": [
    "# Convert to numpy array for convenience\n",
    "durability = np.array(durability)"
   ]
  },
  {
   "cell_type": "code",
   "execution_count": 4,
   "id": "872c4e10-3be2-4d28-b723-018bfa36dab4",
   "metadata": {},
   "outputs": [],
   "source": [
    "# Sample statistics\n",
    "n = len(durability)\n",
    "mean = np.mean(durability)\n",
    "sample_std_dev = np.std(durability, ddof=1)  # Sample standard deviation\n",
    "population_std_dev = 0.2  # Known population standard deviation"
   ]
  },
  {
   "cell_type": "code",
   "execution_count": 5,
   "id": "3f19d487-03e4-4e38-bd2c-c7c7ebf1780f",
   "metadata": {},
   "outputs": [],
   "source": [
    "# Confidence level\n",
    "confidence = 0.99\n",
    "alpha = 1 - confidence"
   ]
  },
  {
   "cell_type": "code",
   "execution_count": 14,
   "id": "7b340331-d785-4855-9c2d-ba145ba5d836",
   "metadata": {},
   "outputs": [
    {
     "name": "stdout",
     "output_type": "stream",
     "text": [
      "2.97684273411266\n"
     ]
    }
   ],
   "source": [
    "# Calculate the t-score for 99% confidence level\n",
    "t_score = stats.t.ppf(1 - alpha / 2, df=n-1)\n",
    "print(t_score)"
   ]
  },
  {
   "cell_type": "code",
   "execution_count": 7,
   "id": "9c0860e5-1b84-41db-a9bc-781a3a51a974",
   "metadata": {},
   "outputs": [],
   "source": [
    "#Calculate the Margin of Error\n",
    "margin_of_error_sample = t_score * (sample_std_dev / np.sqrt(n))"
   ]
  },
  {
   "cell_type": "code",
   "execution_count": 8,
   "id": "a9a80f60-35b6-4d12-9123-22f38010314e",
   "metadata": {},
   "outputs": [],
   "source": [
    "# Construct the Confidence Interval\n",
    "ci_sample = (mean - margin_of_error_sample, mean + margin_of_error_sample)"
   ]
  },
  {
   "cell_type": "code",
   "execution_count": 15,
   "id": "caa47e27-70e5-43eb-a83d-a228e4f35f26",
   "metadata": {},
   "outputs": [
    {
     "name": "stdout",
     "output_type": "stream",
     "text": [
      "2.5758293035489004\n"
     ]
    }
   ],
   "source": [
    "# Calculate the z-score for 99% confidence level\n",
    "z_score = stats.norm.ppf(1 - alpha / 2)\n",
    "print(z_score)"
   ]
  },
  {
   "cell_type": "code",
   "execution_count": 10,
   "id": "d88ce372-17c5-4bf0-b943-717dfd079030",
   "metadata": {},
   "outputs": [],
   "source": [
    "# Calculate the Margin of Error\n",
    "margin_of_error_population = z_score * (population_std_dev / np.sqrt(n))\n",
    "print()"
   ]
  },
  {
   "cell_type": "code",
   "execution_count": 11,
   "id": "269e8545-6698-4f74-b562-8c30e9d8d811",
   "metadata": {},
   "outputs": [],
   "source": [
    "# Construct the Confidence Interval\n",
    "ci_population = (mean - margin_of_error_population, mean + margin_of_error_population)"
   ]
  },
  {
   "cell_type": "code",
   "execution_count": 12,
   "id": "a78ea62a-f316-406f-9a0a-1f36534e8018",
   "metadata": {},
   "outputs": [
    {
     "name": "stdout",
     "output_type": "stream",
     "text": [
      "99% Confidence Interval using Sample Standard Deviation: (1.090197338451367, 1.3871359948819662)\n",
      "99% Confidence Interval using Known Population Standard Deviation: (1.1056514133957607, 1.3716819199375725)\n"
     ]
    }
   ],
   "source": [
    "# Print results\n",
    "print(f\"99% Confidence Interval using Sample Standard Deviation: {ci_sample}\")\n",
    "print(f\"99% Confidence Interval using Known Population Standard Deviation: {ci_population}\")\n"
   ]
  },
  {
   "cell_type": "code",
   "execution_count": null,
   "id": "c80a812b-696e-4ca8-8199-e3938c98e065",
   "metadata": {},
   "outputs": [],
   "source": []
  }
 ],
 "metadata": {
  "kernelspec": {
   "display_name": "Python 3 (ipykernel)",
   "language": "python",
   "name": "python3"
  },
  "language_info": {
   "codemirror_mode": {
    "name": "ipython",
    "version": 3
   },
   "file_extension": ".py",
   "mimetype": "text/x-python",
   "name": "python",
   "nbconvert_exporter": "python",
   "pygments_lexer": "ipython3",
   "version": "3.11.4"
  }
 },
 "nbformat": 4,
 "nbformat_minor": 5
}
